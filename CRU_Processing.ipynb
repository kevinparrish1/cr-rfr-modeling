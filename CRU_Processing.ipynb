{
 "cells": [
  {
   "cell_type": "code",
   "execution_count": 2,
   "id": "24512d24-8097-460e-b21e-eb8311f298f1",
   "metadata": {},
   "outputs": [],
   "source": [
    "import pandas as pd\n",
    "\n",
    "\n",
    "file_path = '..//CRU Data/cru_ts4.08.1901.2023.tmx.dat' \n",
    "delimiter = '    ' \n",
    "\n",
    "\n",
    "data = pd.read_csv(file_path, delimiter=delimiter,engine='python',header=None)\n",
    "\n",
    "def split_dataframe(df, chunk_size):\n",
    "    chunks = [df[i:i + chunk_size] for i in range(0, len(df), chunk_size)]\n",
    "    return chunks\n",
    "\n",
    "# Split the DataFrame into chunks of 360 rows\n",
    "# The dataset is 720 columns and every 360 rows represents 1 month's latitudes.\n",
    "chunk_size = 360\n",
    "months = split_dataframe(data, chunk_size)"
   ]
  },
  {
   "cell_type": "code",
   "execution_count": 5,
   "id": "00aa5555-39df-47a5-abe7-dbc77ab42a70",
   "metadata": {},
   "outputs": [],
   "source": [
    "import numpy as np\n",
    "import json\n",
    "import os\n",
    "coordinate_data={}\n",
    "for i,lat in enumerate(np.arange(-89.75 ,90.25,.5)):\n",
    "    for j,long in enumerate(np.arange(-179.75,180.25,.5)):\n",
    "        coordinate_data['('+str(lat)+', '+str(long)+')']=[]\n",
    "for month in months:\n",
    "    for i,lat in  enumerate(np.arange(-89.75 ,90.25,.5)):\n",
    "        for j,long in enumerate(np.arange(-179.75,180.25,.5)):\n",
    "            coordinate_data['('+str(lat)+', '+str(long)+')'].append(str(month.iloc[i,j]))\n",
    "\n",
    "with open(os.getcwd()+'./datafiles/coordinate_data.json','w') as fp:\n",
    "    json.dump(coordinate_data,fp)"
   ]
  },
  {
   "cell_type": "code",
   "execution_count": 4,
   "id": "b693d096-afe9-449a-99e1-70baafb3c8ab",
   "metadata": {},
   "outputs": [
    {
     "name": "stdout",
     "output_type": "stream",
     "text": [
      "<class 'str'>\n",
      "<class 'tuple'>\n",
      "1476\n",
      "3029\n",
      "3029\n"
     ]
    }
   ],
   "source": [
    "import pandas as pd\n",
    "import json \n",
    "import numpy as np\n",
    "\n",
    "\n",
    "with open('./datafiles/coordinate_data.json','r') as fp:\n",
    "    data=json.load(fp)\n",
    "\n",
    "df=pd.read_excel('./datafiles/WNATA doi_10_5061_dryad_70rxwdc4v__v20240125/WNATA_JJATmax_3029gp_dataset.xlsx',header=[0,1])\n",
    "df.set_index(df.columns[0],inplace=True)\n",
    "\n",
    "coords=list(data.keys())\n",
    "print(type(coords[0]))\n",
    "print(type(df.columns[0]))\n",
    "\n",
    "hold=[]\n",
    "for x in df.columns: \n",
    "    hold.append([float(y) for y in data[str(x)]])\n",
    "meandata=[]\n",
    "sddata=[]\n",
    "print(len(hold[0]))\n",
    "for x in hold:\n",
    "    junes=[x[i] for i in range(len(x)) if (i+1)%12==6]\n",
    "    julys=[x[i] for i in range(len(x)) if (i+1)%12==7]\n",
    "    augusts=[x[i] for i in range(len(x)) if (i+1)%12==8]\n",
    "    d_=[]\n",
    "    for i in range(len(junes)):\n",
    "        d_.append((junes[i]+julys[i]+augusts[i])/3.)\n",
    "    print(len(d_))\n",
    "    meandata.append(np.mean(d_)/10)\n",
    "    sddata.append(np.std(np.array(d_)/10))\n",
    "print(len(meandata))\n",
    "print(len(sddata))\n",
    "with open('./datafiles/meandata.txt.','w') as fp:\n",
    "    for item in meandata:\n",
    "        fp.write(str(item)+'\\n')\n",
    "with open('./datafiles/sddata.txt.','w') as fp:\n",
    "    for item in sddata:\n",
    "        fp.write(str(item)+'\\n')"
   ]
  },
  {
   "cell_type": "code",
   "execution_count": null,
   "id": "54b05a7c-4ada-4f10-a627-314a805123a6",
   "metadata": {},
   "outputs": [],
   "source": []
  },
  {
   "cell_type": "code",
   "execution_count": null,
   "id": "a438e805-6052-4a61-90ab-04c012c3e417",
   "metadata": {},
   "outputs": [],
   "source": []
  }
 ],
 "metadata": {
  "kernelspec": {
   "display_name": "Python 3 (ipykernel)",
   "language": "python",
   "name": "python3"
  },
  "language_info": {
   "codemirror_mode": {
    "name": "ipython",
    "version": 3
   },
   "file_extension": ".py",
   "mimetype": "text/x-python",
   "name": "python",
   "nbconvert_exporter": "python",
   "pygments_lexer": "ipython3",
   "version": "3.11.7"
  }
 },
 "nbformat": 4,
 "nbformat_minor": 5
}
